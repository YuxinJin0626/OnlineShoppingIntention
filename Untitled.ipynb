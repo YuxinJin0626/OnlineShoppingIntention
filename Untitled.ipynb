{
 "cells": [
  {
   "cell_type": "markdown",
   "id": "85717c1e",
   "metadata": {},
   "source": [
    "# Online Shoppers Intention Analysis"
   ]
  },
  {
   "cell_type": "markdown",
   "id": "b70d923f",
   "metadata": {},
   "source": [
    "Dataset from : Sakar, C.O., Polat, S.O., Katircioglu, M. et al. Real-time prediction of online shoppers’ purchasing intention using multilayer perceptron and LSTM recurrent neural networks. Neural Comput & Applic 31, 6893–6908 (2019). https://doi.org/10.1007/s00521-018-3523-0"
   ]
  },
  {
   "cell_type": "markdown",
   "id": "022a5b42",
   "metadata": {},
   "source": [
    "### Description"
   ]
  },
  {
   "cell_type": "code",
   "execution_count": null,
   "id": "2b26f7c8",
   "metadata": {},
   "outputs": [],
   "source": [
    "This dataset consist of "
   ]
  }
 ],
 "metadata": {
  "kernelspec": {
   "display_name": "Python 3 (ipykernel)",
   "language": "python",
   "name": "python3"
  },
  "language_info": {
   "codemirror_mode": {
    "name": "ipython",
    "version": 3
   },
   "file_extension": ".py",
   "mimetype": "text/x-python",
   "name": "python",
   "nbconvert_exporter": "python",
   "pygments_lexer": "ipython3",
   "version": "3.9.13"
  }
 },
 "nbformat": 4,
 "nbformat_minor": 5
}
